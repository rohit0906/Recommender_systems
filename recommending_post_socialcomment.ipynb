{
  "nbformat": 4,
  "nbformat_minor": 0,
  "metadata": {
    "colab": {
      "name": "recommender.ipynb",
      "provenance": [],
      "toc_visible": true,
      "authorship_tag": "ABX9TyP0H6zdU8Ag+oqMlo99fU78",
      "include_colab_link": true
    },
    "kernelspec": {
      "name": "python3",
      "display_name": "Python 3"
    }
  },
  "cells": [
    {
      "cell_type": "markdown",
      "metadata": {
        "id": "view-in-github",
        "colab_type": "text"
      },
      "source": [
        "<a href=\"https://colab.research.google.com/github/rohit0906/Recommender_systems/blob/master/recommending_post_socialcomment.ipynb\" target=\"_parent\"><img src=\"https://colab.research.google.com/assets/colab-badge.svg\" alt=\"Open In Colab\"/></a>"
      ]
    },
    {
      "cell_type": "markdown",
      "metadata": {
        "id": "L2lDPjXP-keG",
        "colab_type": "text"
      },
      "source": [
        "#Recommender System using Content Based Filtering."
      ]
    },
    {
      "cell_type": "markdown",
      "metadata": {
        "id": "vjun6c1J_MnX",
        "colab_type": "text"
      },
      "source": [
        "Importing numpy and pandas"
      ]
    },
    {
      "cell_type": "code",
      "metadata": {
        "id": "j6jdBfYectkX",
        "colab_type": "code",
        "colab": {}
      },
      "source": [
        "import numpy as np\n",
        "import pandas as pd"
      ],
      "execution_count": 0,
      "outputs": []
    },
    {
      "cell_type": "markdown",
      "metadata": {
        "id": "G-F13GM2_Wbr",
        "colab_type": "text"
      },
      "source": [
        "Loading users.csv"
      ]
    },
    {
      "cell_type": "code",
      "metadata": {
        "id": "aknzmJeOeXa3",
        "colab_type": "code",
        "outputId": "b9841d40-6dde-43c9-aa92-e983ebaebdc8",
        "colab": {
          "base_uri": "https://localhost:8080/",
          "height": 195
        }
      },
      "source": [
        "users=pd.read_csv(\"users.csv\")\n",
        "users=users.rename(columns={\"_id\":\"user_id\"})\n",
        "users.head()"
      ],
      "execution_count": 20,
      "outputs": [
        {
          "output_type": "execute_result",
          "data": {
            "text/html": [
              "<div>\n",
              "<style scoped>\n",
              "    .dataframe tbody tr th:only-of-type {\n",
              "        vertical-align: middle;\n",
              "    }\n",
              "\n",
              "    .dataframe tbody tr th {\n",
              "        vertical-align: top;\n",
              "    }\n",
              "\n",
              "    .dataframe thead th {\n",
              "        text-align: right;\n",
              "    }\n",
              "</style>\n",
              "<table border=\"1\" class=\"dataframe\">\n",
              "  <thead>\n",
              "    <tr style=\"text-align: right;\">\n",
              "      <th></th>\n",
              "      <th>user_id</th>\n",
              "      <th>name</th>\n",
              "      <th>gender</th>\n",
              "      <th>academics</th>\n",
              "    </tr>\n",
              "  </thead>\n",
              "  <tbody>\n",
              "    <tr>\n",
              "      <th>0</th>\n",
              "      <td>5d60098a653a331687083238</td>\n",
              "      <td>Nivesh Singh Chauhan</td>\n",
              "      <td>male</td>\n",
              "      <td>undergraduate</td>\n",
              "    </tr>\n",
              "    <tr>\n",
              "      <th>1</th>\n",
              "      <td>5d610ae1653a331687083239</td>\n",
              "      <td>Gaurav Sharma</td>\n",
              "      <td>male</td>\n",
              "      <td>graduate</td>\n",
              "    </tr>\n",
              "    <tr>\n",
              "      <th>2</th>\n",
              "      <td>5d618359fc5fcf3bdd9a0910</td>\n",
              "      <td>Akshay Mishra</td>\n",
              "      <td>male</td>\n",
              "      <td>undergraduate</td>\n",
              "    </tr>\n",
              "    <tr>\n",
              "      <th>3</th>\n",
              "      <td>5d6d2bb87fa40e1417a49315</td>\n",
              "      <td>Saksham Mathur</td>\n",
              "      <td>male</td>\n",
              "      <td>undergraduate</td>\n",
              "    </tr>\n",
              "    <tr>\n",
              "      <th>4</th>\n",
              "      <td>5d7c994d5720533e15c3b1e9</td>\n",
              "      <td>Varun Chowhan</td>\n",
              "      <td>male</td>\n",
              "      <td>undergraduate</td>\n",
              "    </tr>\n",
              "  </tbody>\n",
              "</table>\n",
              "</div>"
            ],
            "text/plain": [
              "                    user_id                  name gender      academics\n",
              "0  5d60098a653a331687083238  Nivesh Singh Chauhan   male  undergraduate\n",
              "1  5d610ae1653a331687083239         Gaurav Sharma   male       graduate\n",
              "2  5d618359fc5fcf3bdd9a0910         Akshay Mishra   male  undergraduate\n",
              "3  5d6d2bb87fa40e1417a49315        Saksham Mathur   male  undergraduate\n",
              "4  5d7c994d5720533e15c3b1e9         Varun Chowhan   male  undergraduate"
            ]
          },
          "metadata": {
            "tags": []
          },
          "execution_count": 20
        }
      ]
    },
    {
      "cell_type": "markdown",
      "metadata": {
        "id": "zx_CdM9M_aWV",
        "colab_type": "text"
      },
      "source": [
        "Loading posts.csv"
      ]
    },
    {
      "cell_type": "code",
      "metadata": {
        "id": "YTsb4JRjfJ8F",
        "colab_type": "code",
        "outputId": "56c7ce2c-486a-4ca9-90d4-a0b5f48f83c7",
        "colab": {
          "base_uri": "https://localhost:8080/",
          "height": 195
        }
      },
      "source": [
        "post_df=pd.read_csv(\"posts.csv\")\n",
        "post_df=post_df.rename(columns={\"_id\":\"post_id\"})\n",
        "post_df.head()"
      ],
      "execution_count": 21,
      "outputs": [
        {
          "output_type": "execute_result",
          "data": {
            "text/html": [
              "<div>\n",
              "<style scoped>\n",
              "    .dataframe tbody tr th:only-of-type {\n",
              "        vertical-align: middle;\n",
              "    }\n",
              "\n",
              "    .dataframe tbody tr th {\n",
              "        vertical-align: top;\n",
              "    }\n",
              "\n",
              "    .dataframe thead th {\n",
              "        text-align: right;\n",
              "    }\n",
              "</style>\n",
              "<table border=\"1\" class=\"dataframe\">\n",
              "  <thead>\n",
              "    <tr style=\"text-align: right;\">\n",
              "      <th></th>\n",
              "      <th>post_id</th>\n",
              "      <th>title</th>\n",
              "      <th>category</th>\n",
              "      <th>post_type</th>\n",
              "    </tr>\n",
              "  </thead>\n",
              "  <tbody>\n",
              "    <tr>\n",
              "      <th>0</th>\n",
              "      <td>5d62abaa65218653a132c956</td>\n",
              "      <td>hello there</td>\n",
              "      <td>Plant Biotechnology</td>\n",
              "      <td>blog</td>\n",
              "    </tr>\n",
              "    <tr>\n",
              "      <th>1</th>\n",
              "      <td>5d6d39567fa40e1417a4931c</td>\n",
              "      <td>Ml and AI</td>\n",
              "      <td>Artificial Intelligence|Machine Learning|Infor...</td>\n",
              "      <td>blog</td>\n",
              "    </tr>\n",
              "    <tr>\n",
              "      <th>2</th>\n",
              "      <td>5d7d23315720533e15c3b1ee</td>\n",
              "      <td>What is an Operating System ?</td>\n",
              "      <td>Operating Systems</td>\n",
              "      <td>blog</td>\n",
              "    </tr>\n",
              "    <tr>\n",
              "      <th>3</th>\n",
              "      <td>5d7d405e5720533e15c3b1f3</td>\n",
              "      <td>Lord Shiva</td>\n",
              "      <td>Drawings</td>\n",
              "      <td>artwork</td>\n",
              "    </tr>\n",
              "    <tr>\n",
              "      <th>4</th>\n",
              "      <td>5d80dfbc6c53455f896e600e</td>\n",
              "      <td>How Competition law evolved?</td>\n",
              "      <td>Competition Laws</td>\n",
              "      <td>blog</td>\n",
              "    </tr>\n",
              "  </tbody>\n",
              "</table>\n",
              "</div>"
            ],
            "text/plain": [
              "                    post_id  ...  post_type\n",
              "0  5d62abaa65218653a132c956  ...       blog\n",
              "1  5d6d39567fa40e1417a4931c  ...       blog\n",
              "2  5d7d23315720533e15c3b1ee  ...       blog\n",
              "3  5d7d405e5720533e15c3b1f3  ...    artwork\n",
              "4  5d80dfbc6c53455f896e600e  ...       blog\n",
              "\n",
              "[5 rows x 4 columns]"
            ]
          },
          "metadata": {
            "tags": []
          },
          "execution_count": 21
        }
      ]
    },
    {
      "cell_type": "markdown",
      "metadata": {
        "id": "MViTUVfN_d1U",
        "colab_type": "text"
      },
      "source": [
        "Loading views.csv"
      ]
    },
    {
      "cell_type": "code",
      "metadata": {
        "id": "4ZqpXDS1fSij",
        "colab_type": "code",
        "outputId": "1ec1038c-29d3-4ddc-9e77-fa0da3e7e2ae",
        "colab": {
          "base_uri": "https://localhost:8080/",
          "height": 195
        }
      },
      "source": [
        "views=pd.read_csv(\"views.csv\")\n",
        "views.head()"
      ],
      "execution_count": 22,
      "outputs": [
        {
          "output_type": "execute_result",
          "data": {
            "text/html": [
              "<div>\n",
              "<style scoped>\n",
              "    .dataframe tbody tr th:only-of-type {\n",
              "        vertical-align: middle;\n",
              "    }\n",
              "\n",
              "    .dataframe tbody tr th {\n",
              "        vertical-align: top;\n",
              "    }\n",
              "\n",
              "    .dataframe thead th {\n",
              "        text-align: right;\n",
              "    }\n",
              "</style>\n",
              "<table border=\"1\" class=\"dataframe\">\n",
              "  <thead>\n",
              "    <tr style=\"text-align: right;\">\n",
              "      <th></th>\n",
              "      <th>user_id</th>\n",
              "      <th>post_id</th>\n",
              "      <th>timestamp</th>\n",
              "    </tr>\n",
              "  </thead>\n",
              "  <tbody>\n",
              "    <tr>\n",
              "      <th>0</th>\n",
              "      <td>5df49b32cc709107827fb3c7</td>\n",
              "      <td>5ec821ddec493f4a2655889e</td>\n",
              "      <td>2020-06-01T10:46:45.131Z</td>\n",
              "    </tr>\n",
              "    <tr>\n",
              "      <th>1</th>\n",
              "      <td>5ed3748576027d35905ccaab</td>\n",
              "      <td>5ed4cbadbd514d602c1531a6</td>\n",
              "      <td>2020-06-01T09:39:20.021Z</td>\n",
              "    </tr>\n",
              "    <tr>\n",
              "      <th>2</th>\n",
              "      <td>5ed0defa76027d35905cc2de</td>\n",
              "      <td>5eac305f10426255a7aa9dd3</td>\n",
              "      <td>2020-06-01T08:12:42.682Z</td>\n",
              "    </tr>\n",
              "    <tr>\n",
              "      <th>3</th>\n",
              "      <td>5ed0defa76027d35905cc2de</td>\n",
              "      <td>5ed1ff0276027d35905cc60d</td>\n",
              "      <td>2020-06-01T08:10:23.880Z</td>\n",
              "    </tr>\n",
              "    <tr>\n",
              "      <th>4</th>\n",
              "      <td>5ed0defa76027d35905cc2de</td>\n",
              "      <td>5ed3820f76027d35905ccac8</td>\n",
              "      <td>2020-06-01T08:08:54.124Z</td>\n",
              "    </tr>\n",
              "  </tbody>\n",
              "</table>\n",
              "</div>"
            ],
            "text/plain": [
              "                    user_id                   post_id                 timestamp\n",
              "0  5df49b32cc709107827fb3c7  5ec821ddec493f4a2655889e  2020-06-01T10:46:45.131Z\n",
              "1  5ed3748576027d35905ccaab  5ed4cbadbd514d602c1531a6  2020-06-01T09:39:20.021Z\n",
              "2  5ed0defa76027d35905cc2de  5eac305f10426255a7aa9dd3  2020-06-01T08:12:42.682Z\n",
              "3  5ed0defa76027d35905cc2de  5ed1ff0276027d35905cc60d  2020-06-01T08:10:23.880Z\n",
              "4  5ed0defa76027d35905cc2de  5ed3820f76027d35905ccac8  2020-06-01T08:08:54.124Z"
            ]
          },
          "metadata": {
            "tags": []
          },
          "execution_count": 22
        }
      ]
    },
    {
      "cell_type": "code",
      "metadata": {
        "id": "frFcsFwb9Ztu",
        "colab_type": "code",
        "outputId": "7f161e4b-02cf-41fd-890a-da3cec2575f0",
        "colab": {
          "base_uri": "https://localhost:8080/",
          "height": 67
        }
      },
      "source": [
        "print(\"users.shape\", users.shape)\n",
        "print(\"posts.shape\", post_df.shape)\n",
        "print(\"views.shape\", views.shape)"
      ],
      "execution_count": 23,
      "outputs": [
        {
          "output_type": "stream",
          "text": [
            "users.shape (118, 4)\n",
            "posts.shape (493, 4)\n",
            "views.shape (1449, 3)\n"
          ],
          "name": "stdout"
        }
      ]
    },
    {
      "cell_type": "code",
      "metadata": {
        "id": "LxE127gkxRmz",
        "colab_type": "code",
        "outputId": "2d5ac516-4ebf-41de-bf1b-eeb623a34e64",
        "colab": {
          "base_uri": "https://localhost:8080/",
          "height": 202
        }
      },
      "source": [
        "post_df.info()"
      ],
      "execution_count": 24,
      "outputs": [
        {
          "output_type": "stream",
          "text": [
            "<class 'pandas.core.frame.DataFrame'>\n",
            "RangeIndex: 493 entries, 0 to 492\n",
            "Data columns (total 4 columns):\n",
            " #   Column      Non-Null Count  Dtype \n",
            "---  ------      --------------  ----- \n",
            " 0   post_id     493 non-null    object\n",
            " 1   title       493 non-null    object\n",
            " 2   category    465 non-null    object\n",
            " 3    post_type  493 non-null    object\n",
            "dtypes: object(4)\n",
            "memory usage: 15.5+ KB\n"
          ],
          "name": "stdout"
        }
      ]
    },
    {
      "cell_type": "markdown",
      "metadata": {
        "id": "ZfuckD7C_xlu",
        "colab_type": "text"
      },
      "source": [
        "Feature extracting using NLP library **TfidfVectorizer**.\n",
        "It creates a sparse matrix as output."
      ]
    },
    {
      "cell_type": "code",
      "metadata": {
        "id": "vAT7hZp076Qb",
        "colab_type": "code",
        "colab": {}
      },
      "source": [
        "from sklearn.feature_extraction.text import TfidfVectorizer\n",
        "\n",
        "TfidfVectorizer\n",
        "tfv = TfidfVectorizer(min_df=3,  max_features=None, \n",
        "            strip_accents='unicode', analyzer='word',token_pattern=r'\\w{1,}',\n",
        "            ngram_range=(1, 3),\n",
        "            stop_words = 'english')\n",
        "\n",
        "# Filling NaNs with empty string\n",
        "post_df['category'] = post_df['category'].fillna('')"
      ],
      "execution_count": 0,
      "outputs": []
    },
    {
      "cell_type": "code",
      "metadata": {
        "id": "BArLh6dR8NHA",
        "colab_type": "code",
        "colab": {}
      },
      "source": [
        "tfv_matrix = tfv.fit_transform(post_df['category'])\n"
      ],
      "execution_count": 0,
      "outputs": []
    },
    {
      "cell_type": "code",
      "metadata": {
        "id": "FmL513wl8Z9d",
        "colab_type": "code",
        "outputId": "fd9faad2-7c38-4565-aa12-519102e1ec9a",
        "colab": {
          "base_uri": "https://localhost:8080/",
          "height": 34
        }
      },
      "source": [
        "tfv_matrix.shape"
      ],
      "execution_count": 27,
      "outputs": [
        {
          "output_type": "execute_result",
          "data": {
            "text/plain": [
              "(493, 228)"
            ]
          },
          "metadata": {
            "tags": []
          },
          "execution_count": 27
        }
      ]
    },
    {
      "cell_type": "markdown",
      "metadata": {
        "id": "EqQD1-gAAIkM",
        "colab_type": "text"
      },
      "source": [
        "Finding correlation on tfv.\n"
      ]
    },
    {
      "cell_type": "code",
      "metadata": {
        "id": "acEA-PIK8gud",
        "colab_type": "code",
        "colab": {}
      },
      "source": [
        "from sklearn.metrics.pairwise import sigmoid_kernel\n",
        "\n",
        "sig = sigmoid_kernel(tfv_matrix, tfv_matrix)"
      ],
      "execution_count": 0,
      "outputs": []
    },
    {
      "cell_type": "markdown",
      "metadata": {
        "id": "NGRnt0WOAcla",
        "colab_type": "text"
      },
      "source": [
        "Mapping post title with its index."
      ]
    },
    {
      "cell_type": "code",
      "metadata": {
        "id": "3EO3C3aS8zxE",
        "colab_type": "code",
        "colab": {}
      },
      "source": [
        "indices = pd.Series(post_df.index, index=post_df['title']).drop_duplicates()"
      ],
      "execution_count": 0,
      "outputs": []
    },
    {
      "cell_type": "code",
      "metadata": {
        "id": "RT8RjBjL_4d-",
        "colab_type": "code",
        "outputId": "254a1584-80a6-4714-b0a6-33780d87dfac",
        "colab": {
          "base_uri": "https://localhost:8080/",
          "height": 134
        }
      },
      "source": [
        "indices.head()"
      ],
      "execution_count": 30,
      "outputs": [
        {
          "output_type": "execute_result",
          "data": {
            "text/plain": [
              "title\n",
              "hello there                      0\n",
              "Ml and AI                        1\n",
              "What is an Operating System ?    2\n",
              "Lord Shiva                       3\n",
              "How Competition law evolved?     4\n",
              "dtype: int64"
            ]
          },
          "metadata": {
            "tags": []
          },
          "execution_count": 30
        }
      ]
    },
    {
      "cell_type": "markdown",
      "metadata": {
        "id": "Lme2erZCAjmT",
        "colab_type": "text"
      },
      "source": [
        "Function give_rec() used to return a list of tuple containing index and title of recommended posts."
      ]
    },
    {
      "cell_type": "code",
      "metadata": {
        "id": "N66-JGs-Bkca",
        "colab_type": "code",
        "colab": {}
      },
      "source": [
        "def give_rec(title,no_of_rec, sig=sig):\n",
        "    # Get the index corresponding to original_title\n",
        "    idx = indices[title]\n",
        "\n",
        "    # Get the pairwsie similarity scores \n",
        "    sig_scores = list(enumerate(sig[idx]))\n",
        "\n",
        "    # Sort the movies \n",
        "    sig_scores = sorted(sig_scores, key=lambda x: x[1], reverse=True)\n",
        "\n",
        "    # Scores of the 10 most similar movies\n",
        "    sig_scores = sig_scores[0:no_of_rec+1]\n",
        "\n",
        "    # post indices\n",
        "    post_index = [i[0] for i in sig_scores]\n",
        "\n",
        "    # Top 10 most similar movies\n",
        "    return post_df['title'].iloc[post_index]"
      ],
      "execution_count": 0,
      "outputs": []
    },
    {
      "cell_type": "markdown",
      "metadata": {
        "id": "LE-JRX6IBW2m",
        "colab_type": "text"
      },
      "source": [
        "Function recommend_post() is used to print the recommended posts' title."
      ]
    },
    {
      "cell_type": "code",
      "metadata": {
        "id": "ZlMxGvbaB84I",
        "colab_type": "code",
        "colab": {}
      },
      "source": [
        "def recommend_post(title,n=10):\n",
        "  rec=give_rec(title,n).to_list()\n",
        "  count=0\n",
        "  for item in rec:\n",
        "    if not (item==title) and count<=n:\n",
        "      count+=1\n",
        "      print(item)"
      ],
      "execution_count": 0,
      "outputs": []
    },
    {
      "cell_type": "markdown",
      "metadata": {
        "id": "anQ9mBURBlLP",
        "colab_type": "text"
      },
      "source": [
        "Merging users, posts and views dataframe to findout the watch history of each user. Thus using this info to recommend next post based on the current post that the user is viewing."
      ]
    },
    {
      "cell_type": "code",
      "metadata": {
        "id": "8YMu89gziLo8",
        "colab_type": "code",
        "outputId": "9bc470b8-da02-4633-9b16-e3d11aeeadcf",
        "colab": {
          "base_uri": "https://localhost:8080/",
          "height": 195
        }
      },
      "source": [
        "data_df = pd.merge( users,views, on='user_id')\n",
        "data_df = pd.merge( data_df,post_df, on='post_id') \n",
        "data_df=data_df.drop(columns=['user_id','gender','academics','post_id','category'])\n",
        "data_df.head()"
      ],
      "execution_count": 33,
      "outputs": [
        {
          "output_type": "execute_result",
          "data": {
            "text/html": [
              "<div>\n",
              "<style scoped>\n",
              "    .dataframe tbody tr th:only-of-type {\n",
              "        vertical-align: middle;\n",
              "    }\n",
              "\n",
              "    .dataframe tbody tr th {\n",
              "        vertical-align: top;\n",
              "    }\n",
              "\n",
              "    .dataframe thead th {\n",
              "        text-align: right;\n",
              "    }\n",
              "</style>\n",
              "<table border=\"1\" class=\"dataframe\">\n",
              "  <thead>\n",
              "    <tr style=\"text-align: right;\">\n",
              "      <th></th>\n",
              "      <th>name</th>\n",
              "      <th>timestamp</th>\n",
              "      <th>title</th>\n",
              "      <th>post_type</th>\n",
              "    </tr>\n",
              "  </thead>\n",
              "  <tbody>\n",
              "    <tr>\n",
              "      <th>0</th>\n",
              "      <td>Nivesh Singh Chauhan</td>\n",
              "      <td>2020-05-31T18:01:54.308Z</td>\n",
              "      <td>Configure Docker with Django; PostgreSQL; Pg-a...</td>\n",
              "      <td>blog</td>\n",
              "    </tr>\n",
              "    <tr>\n",
              "      <th>1</th>\n",
              "      <td>Kanika Sharma</td>\n",
              "      <td>2020-05-31T20:40:18.693Z</td>\n",
              "      <td>Configure Docker with Django; PostgreSQL; Pg-a...</td>\n",
              "      <td>blog</td>\n",
              "    </tr>\n",
              "    <tr>\n",
              "      <th>2</th>\n",
              "      <td>Asif Hossain</td>\n",
              "      <td>2020-06-01T08:08:54.124Z</td>\n",
              "      <td>Configure Docker with Django; PostgreSQL; Pg-a...</td>\n",
              "      <td>blog</td>\n",
              "    </tr>\n",
              "    <tr>\n",
              "      <th>3</th>\n",
              "      <td>Parth Vijay</td>\n",
              "      <td>2020-05-31T10:08:37.079Z</td>\n",
              "      <td>Configure Docker with Django; PostgreSQL; Pg-a...</td>\n",
              "      <td>blog</td>\n",
              "    </tr>\n",
              "    <tr>\n",
              "      <th>4</th>\n",
              "      <td>Nivesh Singh Chauhan</td>\n",
              "      <td>2020-05-31T08:21:29.911Z</td>\n",
              "      <td>AWS services and how to launch OS on AWS Cloud</td>\n",
              "      <td>blog</td>\n",
              "    </tr>\n",
              "  </tbody>\n",
              "</table>\n",
              "</div>"
            ],
            "text/plain": [
              "                   name  ...  post_type\n",
              "0  Nivesh Singh Chauhan  ...       blog\n",
              "1         Kanika Sharma  ...       blog\n",
              "2          Asif Hossain  ...       blog\n",
              "3           Parth Vijay  ...       blog\n",
              "4  Nivesh Singh Chauhan  ...       blog\n",
              "\n",
              "[5 rows x 4 columns]"
            ]
          },
          "metadata": {
            "tags": []
          },
          "execution_count": 33
        }
      ]
    },
    {
      "cell_type": "markdown",
      "metadata": {
        "id": "jU6GOj6xCA1L",
        "colab_type": "text"
      },
      "source": [
        "Function recommend_user() is used to recommend post based on what the user has viewed recently."
      ]
    },
    {
      "cell_type": "code",
      "metadata": {
        "id": "p4CHjCO8t_jc",
        "colab_type": "code",
        "colab": {}
      },
      "source": [
        "def recommend_user(user_name,n=10):\n",
        "  curr=data_df.query('name == @user_name')\n",
        "  latest=max(curr['timestamp'])\n",
        "  curr=curr.query('timestamp==@latest')\n",
        "  for i in (curr['title']):\n",
        "    print(\"Recent Post viewed:-\", i)\n",
        "    print(\"\\nRecommended for you:\\n\")\n",
        "    recommend_post(i,n)\n"
      ],
      "execution_count": 0,
      "outputs": []
    },
    {
      "cell_type": "markdown",
      "metadata": {
        "id": "06bvq8KOEARp",
        "colab_type": "text"
      },
      "source": [
        "**Recommending similar posts for the given post**"
      ]
    },
    {
      "cell_type": "code",
      "metadata": {
        "id": "xu25bXTos1Gq",
        "colab_type": "code",
        "outputId": "4e927f9f-4705-4c43-fc58-214ebdbce4b7",
        "colab": {
          "base_uri": "https://localhost:8080/",
          "height": 101
        }
      },
      "source": [
        "recommend_post(\"Ml and AI\",5)"
      ],
      "execution_count": 35,
      "outputs": [
        {
          "output_type": "stream",
          "text": [
            "6 Best + Free PLC Programming Training & Course [2020 UPDATED]\n",
            "What sports will look like in the future\n",
            "Artificial Intelligence\n",
            "Types Of AI.\n",
            "7 Best Python Data Science Courses & Certification [2020]\n"
          ],
          "name": "stdout"
        }
      ]
    },
    {
      "cell_type": "markdown",
      "metadata": {
        "id": "3w8GiluQEJXx",
        "colab_type": "text"
      },
      "source": [
        "**Recommend posts for the given user**"
      ]
    },
    {
      "cell_type": "code",
      "metadata": {
        "id": "qcbJYjI8zjxs",
        "colab_type": "code",
        "outputId": "4dfa9f80-e10c-4d15-cf34-21344f45f9c3",
        "colab": {
          "base_uri": "https://localhost:8080/",
          "height": 252
        }
      },
      "source": [
        "recommend_user(\"Sahana B\")"
      ],
      "execution_count": 36,
      "outputs": [
        {
          "output_type": "stream",
          "text": [
            "Recent Post viewed:- Understanding Cloud Computing(AWS)\n",
            "\n",
            "Recommended for you:\n",
            "\n",
            "Cloud Computing\n",
            "AWS services and how to launch OS on AWS Cloud\n",
            "8 Best Machine Learning Courses for 2020\n",
            "Cloud Computing\n",
            "Mobile Computing Technology\n",
            "App Development\n",
            "Stereoscopic and virtual-reality systems\n",
            "Firewall\n",
            "DATA AND MESSAGE SECURITY\n",
            "Applications of mobile computing\n"
          ],
          "name": "stdout"
        }
      ]
    }
  ]
}